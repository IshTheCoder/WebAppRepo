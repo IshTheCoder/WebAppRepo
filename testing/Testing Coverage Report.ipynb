{
 "cells": [
  {
   "cell_type": "code",
   "execution_count": 15,
   "metadata": {},
   "outputs": [
    {
     "name": "stdout",
     "output_type": "stream",
     "text": [
      "============================= test session starts =============================\n",
      "platform win32 -- Python 3.7.7, pytest-5.4.1, py-1.8.1, pluggy-0.13.1\n",
      "rootdir: C:\\Users\\suhri\\WebAppRepo\\testing\n",
      "plugins: dash-1.12.0\n",
      "collected 9 items\n",
      "\n",
      "test_effi.py ..                                                          [ 22%]\n",
      "test_navbar.py .                                                         [ 33%]\n",
      "test_pca.py .....                                                        [ 88%]\n",
      "test_sim_com.py .                                                        [100%]\n",
      "\n",
      "============================== warnings summary ===============================\n",
      "test_sim_com.py::test_sim_com\n",
      "  ..\\sim_com.py:60: SettingWithCopyWarning:\n",
      "  \n",
      "  \n",
      "  A value is trying to be set on a copy of a slice from a DataFrame.\n",
      "  Try using .loc[row_indexer,col_indexer] = value instead\n",
      "  \n",
      "  See the caveats in the documentation: https://pandas.pydata.org/pandas-docs/stable/user_guide/indexing.html#returning-a-view-versus-a-copy\n",
      "\n",
      "test_sim_com.py::test_sim_com\n",
      "  ..\\sim_com.py:61: SettingWithCopyWarning:\n",
      "  \n",
      "  \n",
      "  A value is trying to be set on a copy of a slice from a DataFrame.\n",
      "  Try using .loc[row_indexer,col_indexer] = value instead\n",
      "  \n",
      "  See the caveats in the documentation: https://pandas.pydata.org/pandas-docs/stable/user_guide/indexing.html#returning-a-view-versus-a-copy\n",
      "\n",
      "-- Docs: https://docs.pytest.org/en/latest/warnings.html\n",
      "======================== 9 passed, 2 warnings in 8.19s ========================\n"
     ]
    }
   ],
   "source": [
    "!coverage run -m pytest"
   ]
  },
  {
   "cell_type": "code",
   "execution_count": 16,
   "metadata": {},
   "outputs": [
    {
     "name": "stdout",
     "output_type": "stream",
     "text": [
      "Name                                     Stmts   Miss  Cover   Missing\n",
      "----------------------------------------------------------------------\n",
      "C:\\Users\\suhri\\WebAppRepo\\effi.py           40      1    98%   56\n",
      "C:\\Users\\suhri\\WebAppRepo\\navbar.py          5      0   100%\n",
      "C:\\Users\\suhri\\WebAppRepo\\pca.py            85      0   100%\n",
      "C:\\Users\\suhri\\WebAppRepo\\pie_chart.py      49     20    59%   21-22, 49-85\n",
      "C:\\Users\\suhri\\WebAppRepo\\scatter.py        41     26    37%   20-29, 39-81\n",
      "C:\\Users\\suhri\\WebAppRepo\\sim_com.py        32      3    91%   71-73\n",
      "test_effi.py                                14      0   100%\n",
      "test_navbar.py                              12      0   100%\n",
      "test_pca.py                                 72      0   100%\n",
      "test_sim_com.py                             12      0   100%\n",
      "----------------------------------------------------------------------\n",
      "TOTAL                                      362     50    86%\n"
     ]
    }
   ],
   "source": [
    "!coverage report -m -i"
   ]
  }
 ],
 "metadata": {
  "kernelspec": {
   "display_name": "Python 3",
   "language": "python",
   "name": "python3"
  },
  "language_info": {
   "codemirror_mode": {
    "name": "ipython",
    "version": 3
   },
   "file_extension": ".py",
   "mimetype": "text/x-python",
   "name": "python",
   "nbconvert_exporter": "python",
   "pygments_lexer": "ipython3",
   "version": "3.7.7"
  }
 },
 "nbformat": 4,
 "nbformat_minor": 4
}
