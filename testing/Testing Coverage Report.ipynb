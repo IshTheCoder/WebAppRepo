{
 "cells": [
  {
   "cell_type": "code",
   "execution_count": 3,
   "metadata": {},
   "outputs": [
    {
     "name": "stdout",
     "output_type": "stream",
     "text": [
      "============================= test session starts =============================\n",
      "platform win32 -- Python 3.7.7, pytest-5.4.1, py-1.8.1, pluggy-0.13.1\n",
      "rootdir: C:\\Users\\suhri\\WebAppRepo\\testing\n",
      "plugins: dash-1.12.0\n",
      "collected 5 items\n",
      "\n",
      "test_pca.py .....                                                        [100%]\n",
      "\n",
      "============================== 5 passed in 2.35s ==============================\n"
     ]
    }
   ],
   "source": [
    "!coverage run -m pytest"
   ]
  },
  {
   "cell_type": "code",
   "execution_count": 4,
   "metadata": {},
   "outputs": [
    {
     "name": "stdout",
     "output_type": "stream",
     "text": [
      "Name                               Stmts   Miss  Cover   Missing\n",
      "----------------------------------------------------------------\n",
      "C:\\Users\\suhri\\WebAppRepo\\pca.py      85      0   100%\n",
      "test_application.py                    0      0   100%\n",
      "test_draw_scatter.py                   0      0   100%\n",
      "test_effi.py                           0      0   100%\n",
      "test_figure_generate.py                0      0   100%\n",
      "test_get_img_all.py                    0      0   100%\n",
      "test_navbar.py                         0      0   100%\n",
      "test_pca.py                           72      0   100%\n",
      "test_pie_chart.py                      0      0   100%\n",
      "test_scatter.py                        0      0   100%\n",
      "test_sim_com.py                        0      0   100%\n",
      "----------------------------------------------------------------\n",
      "TOTAL                                157      0   100%\n"
     ]
    }
   ],
   "source": [
    "!coverage report -m -i"
   ]
  }
 ],
 "metadata": {
  "kernelspec": {
   "display_name": "Python 3",
   "language": "python",
   "name": "python3"
  },
  "language_info": {
   "codemirror_mode": {
    "name": "ipython",
    "version": 3
   },
   "file_extension": ".py",
   "mimetype": "text/x-python",
   "name": "python",
   "nbconvert_exporter": "python",
   "pygments_lexer": "ipython3",
   "version": "3.7.7"
  }
 },
 "nbformat": 4,
 "nbformat_minor": 4
}
